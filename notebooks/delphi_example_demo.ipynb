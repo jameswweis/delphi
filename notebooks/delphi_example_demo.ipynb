{
 "cells": [
  {
   "cell_type": "markdown",
   "metadata": {},
   "source": [
    "# DELPHI: Example Demonstration"
   ]
  },
  {
   "cell_type": "markdown",
   "metadata": {},
   "source": [
    "## Load dependency packages\n",
    "Note that all of the necessary dependency packages should have been automatically installed if you are running this notebook from within the provided Docker container. If not, you can install the dependencies using the provided `requirements.txt` file using pip: \n",
    "```\n",
    "pip install --upgrade pip && pip install -U -r requirements.txt\n",
    "```\n",
    "This notebook assumes familiarity with [Pandas](https://pandas.pydata.org/docs/) and [Seaborn](https://seaborn.pydata.org). In addition, knowledge of [scikit-learn](https://scikit-learn.org/stable/user_guide.html) may be helpful. "
   ]
  },
  {
   "cell_type": "code",
   "execution_count": 349,
   "metadata": {},
   "outputs": [],
   "source": [
    "import pickle\n",
    "\n",
    "import pandas as pd\n",
    "\n",
    "import matplotlib.pyplot as plt\n",
    "\n",
    "import seaborn as sns\n",
    "\n",
    "sns.set(style='ticks')\n",
    "\n",
    "sns.set_palette(\"tab10\")\n",
    "\n",
    "sns.set_context('paper')\n",
    "\n",
    "from sklearn.metrics import balanced_accuracy_score, roc_auc_score, confusion_matrix"
   ]
  },
  {
   "cell_type": "markdown",
   "metadata": {},
   "source": [
    "## Load demonstration models and data\n",
    "Binary files with models and data are available for download (links in `README.md`). These files should be downloaded and added to the Docker container where they can be accessed below. Alternatively, you can provide your own data here. "
   ]
  },
  {
   "cell_type": "code",
   "execution_count": 350,
   "metadata": {},
   "outputs": [],
   "source": [
    "fname = '/tmp/data/demo_models.pickle'    \n",
    "\n",
    "with open(fname, 'rb') as f:\n",
    "    \n",
    "    mdls = pickle.load(f)\n",
    "    \n",
    "fname = '/tmp/data/demo_data.pickle'         \n",
    "\n",
    "with open(fname, 'rb') as f:\n",
    "    \n",
    "    d = pickle.load(f)    "
   ]
  },
  {
   "cell_type": "markdown",
   "metadata": {},
   "source": [
    "## Run demonstration predictions on example data "
   ]
  },
  {
   "cell_type": "markdown",
   "metadata": {},
   "source": [
    "Example models and data, along with true values, are provided for this analysis. The example uses data from two-years post-publication, and explores the early-warning signal calculation for the following three years using a subset of the data and features. "
   ]
  },
  {
   "cell_type": "code",
   "execution_count": 351,
   "metadata": {},
   "outputs": [
    {
     "data": {
      "text/html": [
       "<div>\n",
       "<style scoped>\n",
       "    .dataframe tbody tr th:only-of-type {\n",
       "        vertical-align: middle;\n",
       "    }\n",
       "\n",
       "    .dataframe tbody tr th {\n",
       "        vertical-align: top;\n",
       "    }\n",
       "\n",
       "    .dataframe thead th {\n",
       "        text-align: right;\n",
       "    }\n",
       "</style>\n",
       "<table border=\"1\" class=\"dataframe\">\n",
       "  <thead>\n",
       "    <tr style=\"text-align: right;\">\n",
       "      <th></th>\n",
       "      <th>lo</th>\n",
       "      <th>hi</th>\n",
       "      <th>y1</th>\n",
       "      <th>y2</th>\n",
       "      <th>p</th>\n",
       "      <th>t</th>\n",
       "    </tr>\n",
       "  </thead>\n",
       "  <tbody>\n",
       "    <tr>\n",
       "      <th>0</th>\n",
       "      <td>1.000000</td>\n",
       "      <td>0.000000</td>\n",
       "      <td>2</td>\n",
       "      <td>3</td>\n",
       "      <td>False</td>\n",
       "      <td>False</td>\n",
       "    </tr>\n",
       "    <tr>\n",
       "      <th>1</th>\n",
       "      <td>0.088477</td>\n",
       "      <td>0.911523</td>\n",
       "      <td>2</td>\n",
       "      <td>3</td>\n",
       "      <td>True</td>\n",
       "      <td>True</td>\n",
       "    </tr>\n",
       "    <tr>\n",
       "      <th>2</th>\n",
       "      <td>0.558275</td>\n",
       "      <td>0.441725</td>\n",
       "      <td>2</td>\n",
       "      <td>3</td>\n",
       "      <td>False</td>\n",
       "      <td>False</td>\n",
       "    </tr>\n",
       "    <tr>\n",
       "      <th>3</th>\n",
       "      <td>1.000000</td>\n",
       "      <td>0.000000</td>\n",
       "      <td>2</td>\n",
       "      <td>3</td>\n",
       "      <td>False</td>\n",
       "      <td>False</td>\n",
       "    </tr>\n",
       "    <tr>\n",
       "      <th>4</th>\n",
       "      <td>1.000000</td>\n",
       "      <td>0.000000</td>\n",
       "      <td>2</td>\n",
       "      <td>3</td>\n",
       "      <td>False</td>\n",
       "      <td>False</td>\n",
       "    </tr>\n",
       "    <tr>\n",
       "      <th>...</th>\n",
       "      <td>...</td>\n",
       "      <td>...</td>\n",
       "      <td>...</td>\n",
       "      <td>...</td>\n",
       "      <td>...</td>\n",
       "      <td>...</td>\n",
       "    </tr>\n",
       "    <tr>\n",
       "      <th>295</th>\n",
       "      <td>0.470591</td>\n",
       "      <td>0.529409</td>\n",
       "      <td>2</td>\n",
       "      <td>5</td>\n",
       "      <td>True</td>\n",
       "      <td>True</td>\n",
       "    </tr>\n",
       "    <tr>\n",
       "      <th>296</th>\n",
       "      <td>1.000000</td>\n",
       "      <td>0.000000</td>\n",
       "      <td>2</td>\n",
       "      <td>5</td>\n",
       "      <td>False</td>\n",
       "      <td>False</td>\n",
       "    </tr>\n",
       "    <tr>\n",
       "      <th>297</th>\n",
       "      <td>0.816461</td>\n",
       "      <td>0.183539</td>\n",
       "      <td>2</td>\n",
       "      <td>5</td>\n",
       "      <td>False</td>\n",
       "      <td>False</td>\n",
       "    </tr>\n",
       "    <tr>\n",
       "      <th>298</th>\n",
       "      <td>0.934911</td>\n",
       "      <td>0.065089</td>\n",
       "      <td>2</td>\n",
       "      <td>5</td>\n",
       "      <td>False</td>\n",
       "      <td>False</td>\n",
       "    </tr>\n",
       "    <tr>\n",
       "      <th>299</th>\n",
       "      <td>0.355556</td>\n",
       "      <td>0.644444</td>\n",
       "      <td>2</td>\n",
       "      <td>5</td>\n",
       "      <td>False</td>\n",
       "      <td>True</td>\n",
       "    </tr>\n",
       "  </tbody>\n",
       "</table>\n",
       "<p>300 rows × 6 columns</p>\n",
       "</div>"
      ],
      "text/plain": [
       "           lo        hi  y1  y2      p      t\n",
       "0    1.000000  0.000000   2   3  False  False\n",
       "1    0.088477  0.911523   2   3   True   True\n",
       "2    0.558275  0.441725   2   3  False  False\n",
       "3    1.000000  0.000000   2   3  False  False\n",
       "4    1.000000  0.000000   2   3  False  False\n",
       "..        ...       ...  ..  ..    ...    ...\n",
       "295  0.470591  0.529409   2   5   True   True\n",
       "296  1.000000  0.000000   2   5  False  False\n",
       "297  0.816461  0.183539   2   5  False  False\n",
       "298  0.934911  0.065089   2   5  False  False\n",
       "299  0.355556  0.644444   2   5  False   True\n",
       "\n",
       "[300 rows x 6 columns]"
      ]
     },
     "execution_count": 351,
     "metadata": {},
     "output_type": "execute_result"
    }
   ],
   "source": [
    "df = pd.DataFrame()\n",
    "mdf = pd.DataFrame()\n",
    "\n",
    "for ((y1, y2), m), (X, y) in zip(mdls.items(), d.values()):\n",
    "    \n",
    "    # Calculate predictions for example data points and save\n",
    "    p = m.predict_proba(X)\n",
    "    \n",
    "    t = m.predict(X)\n",
    "    \n",
    "    idf = pd.DataFrame(p, columns=['lo','hi'])\n",
    "    \n",
    "    idf['y1'] = y1\n",
    "    \n",
    "    idf['y2'] = y2\n",
    "\n",
    "    idf['p'] = y\n",
    "    \n",
    "    idf['t'] = t\n",
    "    \n",
    "    df = pd.concat([df, idf], ignore_index=True)\n",
    "    \n",
    "    # Calculate evaluation metrics for example models and save\n",
    "    mdf = mdf.append([{\n",
    "        'ba': balanced_accuracy_score(y, t),\n",
    "        'roc': roc_auc_score(y, p[:,1]),\n",
    "        'y1': y1,\n",
    "        'y2': y2\n",
    "    }], ignore_index=True)\n",
    "    \n",
    "df"
   ]
  },
  {
   "cell_type": "code",
   "execution_count": 352,
   "metadata": {},
   "outputs": [
    {
     "data": {
      "text/html": [
       "<div>\n",
       "<style scoped>\n",
       "    .dataframe tbody tr th:only-of-type {\n",
       "        vertical-align: middle;\n",
       "    }\n",
       "\n",
       "    .dataframe tbody tr th {\n",
       "        vertical-align: top;\n",
       "    }\n",
       "\n",
       "    .dataframe thead th {\n",
       "        text-align: right;\n",
       "    }\n",
       "</style>\n",
       "<table border=\"1\" class=\"dataframe\">\n",
       "  <thead>\n",
       "    <tr style=\"text-align: right;\">\n",
       "      <th></th>\n",
       "      <th>ba</th>\n",
       "      <th>roc</th>\n",
       "      <th>y1</th>\n",
       "      <th>y2</th>\n",
       "    </tr>\n",
       "  </thead>\n",
       "  <tbody>\n",
       "    <tr>\n",
       "      <th>0</th>\n",
       "      <td>1.000000</td>\n",
       "      <td>1.000000</td>\n",
       "      <td>2</td>\n",
       "      <td>3</td>\n",
       "    </tr>\n",
       "    <tr>\n",
       "      <th>1</th>\n",
       "      <td>0.954082</td>\n",
       "      <td>1.000000</td>\n",
       "      <td>2</td>\n",
       "      <td>4</td>\n",
       "    </tr>\n",
       "    <tr>\n",
       "      <th>2</th>\n",
       "      <td>0.943299</td>\n",
       "      <td>0.924399</td>\n",
       "      <td>2</td>\n",
       "      <td>5</td>\n",
       "    </tr>\n",
       "  </tbody>\n",
       "</table>\n",
       "</div>"
      ],
      "text/plain": [
       "         ba       roc  y1  y2\n",
       "0  1.000000  1.000000   2   3\n",
       "1  0.954082  1.000000   2   4\n",
       "2  0.943299  0.924399   2   5"
      ]
     },
     "execution_count": 352,
     "metadata": {},
     "output_type": "execute_result"
    }
   ],
   "source": [
    "mdf"
   ]
  },
  {
   "cell_type": "markdown",
   "metadata": {},
   "source": [
    "## Explore results\n",
    "Now that we have predictions on our example dataset, we can explore the performance of the provided example DELPHI models on our sample dataset. Note that because our example here is a small dataset, the variance is higher that it would be with a larger dataset. "
   ]
  },
  {
   "cell_type": "markdown",
   "metadata": {},
   "source": [
    "### Evaluation metrics\n",
    "\n",
    "We can also explore the trends in predictive performance over time (i.e. as the years post-publication increases). As the dataset size increases, these values converge to the values demonstrated in the manuscript. "
   ]
  },
  {
   "cell_type": "code",
   "execution_count": 371,
   "metadata": {},
   "outputs": [
    {
     "data": {
      "image/png": "[encoded data removed]",
      "text/plain": [
       "<Figure size 979.68x576 with 1 Axes>"
      ]
     },
     "metadata": {},
     "output_type": "display_data"
    }
   ],
   "source": [
    "mmdf = mdf.drop('y1', axis=1)\n",
    "\n",
    "mmdf = mmdf.rename(columns={'ba':'Balanced Accuracy', 'roc':'AUC ROC', 'y2':'Year Post-Publication'})\n",
    "\n",
    "mmdf = mmdf.melt(id_vars='Year Post-Publication', var_name='Evaluation Metric', value_name='Score')\n",
    "\n",
    "\n",
    "g = sns.catplot(data=mmdf, x='Year Post-Publication', y='Score', hue='Evaluation Metric', height=8, \n",
    "                kind='point', aspect=1.5, legend=True)"
   ]
  },
  {
   "cell_type": "markdown",
   "metadata": {},
   "source": [
    "### Confusion matrices"
   ]
  },
  {
   "cell_type": "markdown",
   "metadata": {},
   "source": [
    "We can easily plot and visualize confusion matrices for the performance of our example models on our example data. For clarity, a confusion matrix $C$ has entries $C_{i,j}$ equal to the observations from group $i$ predicted to be in group $j$. In our case, both $i$ and $j$ can be either high-impact or low-impact. "
   ]
  },
  {
   "cell_type": "code",
   "execution_count": 353,
   "metadata": {},
   "outputs": [],
   "source": [
    "cdf = pd.DataFrame()\n",
    "\n",
    "for i in df.y2.unique():\n",
    "    \n",
    "    idf = df[df.y2==i]\n",
    "    \n",
    "    cm = confusion_matrix(idf.p, idf.t)\n",
    "    \n",
    "    cdf = cdf.append(pd.Series(cm.ravel()), ignore_index=True)\n",
    "\n",
    "cdf.columns = ['True Negative', 'False Positive', 'False Negative', 'True Positive']\n",
    "\n",
    "cdf['Year Post-Publication'] = df.y2.unique()"
   ]
  },
  {
   "cell_type": "code",
   "execution_count": 354,
   "metadata": {},
   "outputs": [
    {
     "data": {
      "image/png": "[encoded data removed]",
      "text/plain": [
       "<Figure size 1080x360 with 3 Axes>"
      ]
     },
     "metadata": {},
     "output_type": "display_data"
    }
   ],
   "source": [
    "def draw_heatmap(*args, **kwargs):\n",
    "    \n",
    "    data = kwargs.pop('data')\n",
    "    \n",
    "    d = data.iloc[:,:4].values.reshape(2,2)\n",
    "    \n",
    "    sns.heatmap(d, **kwargs)\n",
    "    \n",
    "fg = sns.FacetGrid(data=cdf, col='Year Post-Publication', height=5)\n",
    "\n",
    "ls = ['Low-Impact', 'High-Impact']\n",
    "\n",
    "fg.map_dataframe(draw_heatmap, cbar=False, annot=True, cmap='OrRd', linewidth=1/2, \n",
    "                 square=True, xticklabels=ls, yticklabels=ls)\n",
    "\n",
    "_ = fg.set_axis_labels(\"Prediction\", \"Ground Truth\")"
   ]
  }
 ],
 "metadata": {
  "kernelspec": {
   "display_name": "Python 3",
   "language": "python",
   "name": "python3"
  },
  "language_info": {
   "codemirror_mode": {
    "name": "ipython",
    "version": 3
   },
   "file_extension": ".py",
   "mimetype": "text/x-python",
   "name": "python",
   "nbconvert_exporter": "python",
   "pygments_lexer": "ipython3",
   "version": "3.6.7"
  }
 },
 "nbformat": 4,
 "nbformat_minor": 2
}
